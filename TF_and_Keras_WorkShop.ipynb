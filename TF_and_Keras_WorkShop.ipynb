{
  "nbformat": 4,
  "nbformat_minor": 0,
  "metadata": {
    "colab": {
      "name": "TF and Keras WorkShop.ipynb",
      "provenance": [],
      "authorship_tag": "ABX9TyOo4zQT4JS8Z4u9zQ2Gwpru",
      "include_colab_link": true
    },
    "kernelspec": {
      "name": "python3",
      "display_name": "Python 3"
    },
    "accelerator": "GPU"
  },
  "cells": [
    {
      "cell_type": "markdown",
      "metadata": {
        "id": "view-in-github",
        "colab_type": "text"
      },
      "source": [
        "<a href=\"https://colab.research.google.com/github/AbuKaisar24/Neural-Network-using-Tensoflow-and-keras/blob/master/TF_and_Keras_WorkShop.ipynb\" target=\"_parent\"><img src=\"https://colab.research.google.com/assets/colab-badge.svg\" alt=\"Open In Colab\"/></a>"
      ]
    },
    {
      "cell_type": "markdown",
      "metadata": {
        "id": "IZkF19Sy3Smw",
        "colab_type": "text"
      },
      "source": [
        "### Keras"
      ]
    },
    {
      "cell_type": "code",
      "metadata": {
        "id": "JiJodhnv3B4G",
        "colab_type": "code",
        "colab": {}
      },
      "source": [
        "from keras.layers import Dense\n",
        "from keras.models import Sequential\n",
        "from keras.utils import np_utils\n",
        "import pandas as pd\n",
        "import numpy as np"
      ],
      "execution_count": 0,
      "outputs": []
    },
    {
      "cell_type": "code",
      "metadata": {
        "id": "oMWjW5593jJP",
        "colab_type": "code",
        "outputId": "5b3f2391-676e-454e-9f50-de850c8cfd65",
        "colab": {
          "base_uri": "https://localhost:8080/",
          "height": 202
        }
      },
      "source": [
        "train={'age':[10,20,30,40,25],'gender':[1,0,0,1,1]}\n",
        "df=pd.DataFrame(train)\n",
        "df.head()"
      ],
      "execution_count": 0,
      "outputs": [
        {
          "output_type": "execute_result",
          "data": {
            "text/html": [
              "<div>\n",
              "<style scoped>\n",
              "    .dataframe tbody tr th:only-of-type {\n",
              "        vertical-align: middle;\n",
              "    }\n",
              "\n",
              "    .dataframe tbody tr th {\n",
              "        vertical-align: top;\n",
              "    }\n",
              "\n",
              "    .dataframe thead th {\n",
              "        text-align: right;\n",
              "    }\n",
              "</style>\n",
              "<table border=\"1\" class=\"dataframe\">\n",
              "  <thead>\n",
              "    <tr style=\"text-align: right;\">\n",
              "      <th></th>\n",
              "      <th>age</th>\n",
              "      <th>gender</th>\n",
              "    </tr>\n",
              "  </thead>\n",
              "  <tbody>\n",
              "    <tr>\n",
              "      <th>0</th>\n",
              "      <td>10</td>\n",
              "      <td>1</td>\n",
              "    </tr>\n",
              "    <tr>\n",
              "      <th>1</th>\n",
              "      <td>20</td>\n",
              "      <td>0</td>\n",
              "    </tr>\n",
              "    <tr>\n",
              "      <th>2</th>\n",
              "      <td>30</td>\n",
              "      <td>0</td>\n",
              "    </tr>\n",
              "    <tr>\n",
              "      <th>3</th>\n",
              "      <td>40</td>\n",
              "      <td>1</td>\n",
              "    </tr>\n",
              "    <tr>\n",
              "      <th>4</th>\n",
              "      <td>25</td>\n",
              "      <td>1</td>\n",
              "    </tr>\n",
              "  </tbody>\n",
              "</table>\n",
              "</div>"
            ],
            "text/plain": [
              "   age  gender\n",
              "0   10       1\n",
              "1   20       0\n",
              "2   30       0\n",
              "3   40       1\n",
              "4   25       1"
            ]
          },
          "metadata": {
            "tags": []
          },
          "execution_count": 138
        }
      ]
    },
    {
      "cell_type": "code",
      "metadata": {
        "id": "KLc1S8XtplM5",
        "colab_type": "code",
        "colab": {}
      },
      "source": [
        "x_train=df.iloc[:,0:1].values\n",
        "y_train=df.iloc[:,1].values"
      ],
      "execution_count": 0,
      "outputs": []
    },
    {
      "cell_type": "code",
      "metadata": {
        "id": "21VsViq5qwY-",
        "colab_type": "code",
        "outputId": "2e3b3ccf-9e07-441c-e03e-f7b39960d44a",
        "colab": {
          "base_uri": "https://localhost:8080/",
          "height": 141
        }
      },
      "source": [
        "test={'age':[30,80,30],'gender':[1,0,1]}\n",
        "df2=pd.DataFrame(test)\n",
        "df2.head()"
      ],
      "execution_count": 0,
      "outputs": [
        {
          "output_type": "execute_result",
          "data": {
            "text/html": [
              "<div>\n",
              "<style scoped>\n",
              "    .dataframe tbody tr th:only-of-type {\n",
              "        vertical-align: middle;\n",
              "    }\n",
              "\n",
              "    .dataframe tbody tr th {\n",
              "        vertical-align: top;\n",
              "    }\n",
              "\n",
              "    .dataframe thead th {\n",
              "        text-align: right;\n",
              "    }\n",
              "</style>\n",
              "<table border=\"1\" class=\"dataframe\">\n",
              "  <thead>\n",
              "    <tr style=\"text-align: right;\">\n",
              "      <th></th>\n",
              "      <th>age</th>\n",
              "      <th>gender</th>\n",
              "    </tr>\n",
              "  </thead>\n",
              "  <tbody>\n",
              "    <tr>\n",
              "      <th>0</th>\n",
              "      <td>30</td>\n",
              "      <td>1</td>\n",
              "    </tr>\n",
              "    <tr>\n",
              "      <th>1</th>\n",
              "      <td>80</td>\n",
              "      <td>0</td>\n",
              "    </tr>\n",
              "    <tr>\n",
              "      <th>2</th>\n",
              "      <td>30</td>\n",
              "      <td>1</td>\n",
              "    </tr>\n",
              "  </tbody>\n",
              "</table>\n",
              "</div>"
            ],
            "text/plain": [
              "   age  gender\n",
              "0   30       1\n",
              "1   80       0\n",
              "2   30       1"
            ]
          },
          "metadata": {
            "tags": []
          },
          "execution_count": 140
        }
      ]
    },
    {
      "cell_type": "code",
      "metadata": {
        "id": "whSXnktdrPsb",
        "colab_type": "code",
        "colab": {}
      },
      "source": [
        "x_test=df2.iloc[:,0:1].values\n",
        "y_test=df2.iloc[:,1].values"
      ],
      "execution_count": 0,
      "outputs": []
    },
    {
      "cell_type": "code",
      "metadata": {
        "id": "qgBKGPPOrtzV",
        "colab_type": "code",
        "colab": {}
      },
      "source": [
        "y_train=np_utils.to_categorical(y_train)\n",
        "y_test=np_utils.to_categorical(y_test)"
      ],
      "execution_count": 0,
      "outputs": []
    },
    {
      "cell_type": "code",
      "metadata": {
        "id": "LO0rounK5Aqn",
        "colab_type": "code",
        "outputId": "da11cb45-8330-4bac-f6af-96a0a0a12057",
        "colab": {
          "base_uri": "https://localhost:8080/",
          "height": 208
        }
      },
      "source": [
        "model = Sequential()\n",
        "model.add(Dense(15, activation='relu',input_shape=[1]))\n",
        "model.add(Dense(15, activation='relu'))\n",
        "model.add(Dense(2, activation='softmax'))\n",
        "model.compile(loss='categorical_crossentropy', optimizer='adam', metrics=['accuracy'])\n",
        "history=model.fit(x_train,y_train, batch_size=5, epochs=5, validation_split = 0.1, verbose=1)"
      ],
      "execution_count": 0,
      "outputs": [
        {
          "output_type": "stream",
          "text": [
            "Train on 4 samples, validate on 1 samples\n",
            "Epoch 1/5\n",
            "4/4 [==============================] - 1s 169ms/step - loss: 1.1489 - acc: 0.5000 - val_loss: 0.1747 - val_acc: 1.0000\n",
            "Epoch 2/5\n",
            "4/4 [==============================] - 0s 2ms/step - loss: 1.0403 - acc: 0.5000 - val_loss: 0.2362 - val_acc: 1.0000\n",
            "Epoch 3/5\n",
            "4/4 [==============================] - 0s 2ms/step - loss: 0.9272 - acc: 0.5000 - val_loss: 0.3207 - val_acc: 1.0000\n",
            "Epoch 4/5\n",
            "4/4 [==============================] - 0s 2ms/step - loss: 0.8265 - acc: 0.5000 - val_loss: 0.4313 - val_acc: 1.0000\n",
            "Epoch 5/5\n",
            "4/4 [==============================] - 0s 2ms/step - loss: 0.7495 - acc: 0.5000 - val_loss: 0.5675 - val_acc: 1.0000\n"
          ],
          "name": "stdout"
        }
      ]
    },
    {
      "cell_type": "code",
      "metadata": {
        "id": "4dIVPtet-_yU",
        "colab_type": "code",
        "outputId": "11b6cb08-f358-448b-f01c-d3a2611bcebc",
        "colab": {
          "base_uri": "https://localhost:8080/",
          "height": 52
        }
      },
      "source": [
        "score=model.evaluate(x_test,y_test)\n",
        "print(score[1])"
      ],
      "execution_count": 0,
      "outputs": [
        {
          "output_type": "stream",
          "text": [
            "\r3/3 [==============================] - 0s 2ms/step\n",
            "0.6666666865348816\n"
          ],
          "name": "stdout"
        }
      ]
    },
    {
      "cell_type": "code",
      "metadata": {
        "id": "I5tLlaW6FoFA",
        "colab_type": "code",
        "outputId": "dbf4d3ea-2aed-4462-9da9-7ef357b56cb5",
        "colab": {
          "base_uri": "https://localhost:8080/",
          "height": 35
        }
      },
      "source": [
        "print(model.predict([30]))"
      ],
      "execution_count": 0,
      "outputs": [
        {
          "output_type": "stream",
          "text": [
            "[[0.41821405 0.5817859 ]]\n"
          ],
          "name": "stdout"
        }
      ]
    },
    {
      "cell_type": "code",
      "metadata": {
        "id": "UBdIZHQhGGET",
        "colab_type": "code",
        "colab": {}
      },
      "source": [
        ""
      ],
      "execution_count": 0,
      "outputs": []
    },
    {
      "cell_type": "markdown",
      "metadata": {
        "id": "P-jKTMJFyIuu",
        "colab_type": "text"
      },
      "source": [
        "## *Tensorflow*"
      ]
    },
    {
      "cell_type": "code",
      "metadata": {
        "id": "rAePNvaayMcp",
        "colab_type": "code",
        "colab": {}
      },
      "source": [
        "import tensorflow as tf\n",
        "import numpy as np"
      ],
      "execution_count": 0,
      "outputs": []
    },
    {
      "cell_type": "code",
      "metadata": {
        "id": "6wRYs4pq6BhI",
        "colab_type": "code",
        "colab": {}
      },
      "source": [
        "x=np.array([1,2,3,4,5], dtype=float)\n",
        "y=np.array([3.81,3.96,3.67,3.50,3.20], dtype=float)"
      ],
      "execution_count": 0,
      "outputs": []
    },
    {
      "cell_type": "code",
      "metadata": {
        "id": "NDz9zDcI4Brt",
        "colab_type": "code",
        "outputId": "38009e9b-3c2b-4510-bb42-b7e88ffca581",
        "colab": {
          "base_uri": "https://localhost:8080/",
          "height": 225
        }
      },
      "source": [
        "model=tf.keras.Sequential([tf.keras.layers.Dense(units=1, input_shape=[1])])\n",
        "model.compile(loss='mean_squared_error',optimizer=tf.keras.optimizers.Adam(0.1))\n",
        "history=model.fit(x,y,epochs=5,verbose=1)\n",
        "print(\"End training\")"
      ],
      "execution_count": 0,
      "outputs": [
        {
          "output_type": "stream",
          "text": [
            "Train on 5 samples\n",
            "Epoch 1/5\n",
            "5/5 [==============================] - 0s 95ms/sample - loss: 15.1629\n",
            "Epoch 2/5\n",
            "5/5 [==============================] - 0s 351us/sample - loss: 12.2625\n",
            "Epoch 3/5\n",
            "5/5 [==============================] - 0s 385us/sample - loss: 9.7342\n",
            "Epoch 4/5\n",
            "5/5 [==============================] - 0s 354us/sample - loss: 7.5818\n",
            "Epoch 5/5\n",
            "5/5 [==============================] - 0s 400us/sample - loss: 5.8039\n",
            "End training\n"
          ],
          "name": "stdout"
        }
      ]
    },
    {
      "cell_type": "code",
      "metadata": {
        "id": "UU1tNMLI5_-8",
        "colab_type": "code",
        "outputId": "bd68f4e6-41d6-472f-e0cb-633df4987577",
        "colab": {
          "base_uri": "https://localhost:8080/",
          "height": 283
        }
      },
      "source": [
        "import matplotlib.pyplot as plt\n",
        "plt.plot(history.history['loss'])"
      ],
      "execution_count": 0,
      "outputs": [
        {
          "output_type": "execute_result",
          "data": {
            "text/plain": [
              "[<matplotlib.lines.Line2D at 0x7fa71a212908>]"
            ]
          },
          "metadata": {
            "tags": []
          },
          "execution_count": 157
        },
        {
          "output_type": "display_data",
          "data": {
            "image/png": "[encoded data removed]",
            "text/plain": [
              "<Figure size 432x288 with 1 Axes>"
            ]
          },
          "metadata": {
            "tags": []
          }
        }
      ]
    },
    {
      "cell_type": "code",
      "metadata": {
        "id": "zzfT7hY9-_iy",
        "colab_type": "code",
        "colab": {}
      },
      "source": [
        ""
      ],
      "execution_count": 0,
      "outputs": []
    }
  ]
}